{
 "cells": [
  {
   "cell_type": "code",
   "execution_count": 58,
   "id": "9a423cdd",
   "metadata": {},
   "outputs": [
    {
     "data": {
      "text/plain": [
       "이직여부\n",
       "No     842\n",
       "Yes    158\n",
       "Name: count, dtype: int64"
      ]
     },
     "execution_count": 58,
     "metadata": {},
     "output_type": "execute_result"
    }
   ],
   "source": [
    "#https://blog.naver.com/dev-dog\n",
    "#https://github.com/Kim-Yeryoung/Midterm_Team3/blob/main/practice/User_defined_modules.ipynb\n",
    "\n",
    "import pandas as pd\n",
    "from sklearn.preprocessing import LabelEncoder\n",
    "from sklearn.preprocessing import StandardScaler\n",
    "from sklearn.preprocessing import MinMaxScaler\n",
    "#파일 넣기기\n",
    "input_file = \"한국_기업문화_HR_데이터셋_샘플.csv\"\n",
    "#1. 파일 확인: \n",
    "df = pd.read_csv(input_file)\n",
    "df['이직여부'].value_counts()"
   ]
  },
  {
   "cell_type": "code",
   "execution_count": 59,
   "id": "30f98c04",
   "metadata": {},
   "outputs": [
    {
     "name": "stdout",
     "output_type": "stream",
     "text": [
      "[0 1]\n",
      "[0 1]\n",
      "이직여부\n",
      "0    842\n",
      "1    158\n",
      "Name: count, dtype: int64\n",
      "야근여부\n",
      "0    726\n",
      "1    274\n",
      "Name: count, dtype: int64\n"
     ]
    },
    {
     "name": "stderr",
     "output_type": "stream",
     "text": [
      "C:\\Users\\kimye\\AppData\\Local\\Temp\\ipykernel_11152\\4271009780.py:41: SettingWithCopyWarning: \n",
      "A value is trying to be set on a copy of a slice from a DataFrame.\n",
      "Try using .loc[row_indexer,col_indexer] = value instead\n",
      "\n",
      "See the caveats in the documentation: https://pandas.pydata.org/pandas-docs/stable/user_guide/indexing.html#returning-a-view-versus-a-copy\n",
      "  df[col] = LabelEncoder().fit_transform(df[col])\n",
      "C:\\Users\\kimye\\AppData\\Local\\Temp\\ipykernel_11152\\4271009780.py:41: SettingWithCopyWarning: \n",
      "A value is trying to be set on a copy of a slice from a DataFrame.\n",
      "Try using .loc[row_indexer,col_indexer] = value instead\n",
      "\n",
      "See the caveats in the documentation: https://pandas.pydata.org/pandas-docs/stable/user_guide/indexing.html#returning-a-view-versus-a-copy\n",
      "  df[col] = LabelEncoder().fit_transform(df[col])\n",
      "C:\\Users\\kimye\\AppData\\Local\\Temp\\ipykernel_11152\\4271009780.py:41: SettingWithCopyWarning: \n",
      "A value is trying to be set on a copy of a slice from a DataFrame.\n",
      "Try using .loc[row_indexer,col_indexer] = value instead\n",
      "\n",
      "See the caveats in the documentation: https://pandas.pydata.org/pandas-docs/stable/user_guide/indexing.html#returning-a-view-versus-a-copy\n",
      "  df[col] = LabelEncoder().fit_transform(df[col])\n",
      "C:\\Users\\kimye\\AppData\\Local\\Temp\\ipykernel_11152\\4271009780.py:41: SettingWithCopyWarning: \n",
      "A value is trying to be set on a copy of a slice from a DataFrame.\n",
      "Try using .loc[row_indexer,col_indexer] = value instead\n",
      "\n",
      "See the caveats in the documentation: https://pandas.pydata.org/pandas-docs/stable/user_guide/indexing.html#returning-a-view-versus-a-copy\n",
      "  df[col] = LabelEncoder().fit_transform(df[col])\n",
      "C:\\Users\\kimye\\AppData\\Local\\Temp\\ipykernel_11152\\4271009780.py:41: SettingWithCopyWarning: \n",
      "A value is trying to be set on a copy of a slice from a DataFrame.\n",
      "Try using .loc[row_indexer,col_indexer] = value instead\n",
      "\n",
      "See the caveats in the documentation: https://pandas.pydata.org/pandas-docs/stable/user_guide/indexing.html#returning-a-view-versus-a-copy\n",
      "  df[col] = LabelEncoder().fit_transform(df[col])\n"
     ]
    }
   ],
   "source": [
    "'''\n",
    "2. 데이터 전처리 (15점)\n",
    "\n",
    "결측치 처리 여부를 확인하고 필요한 전처리를 수행하시오. \n",
    "\n",
    "이직여부를 이진값(0, 1)으로 변환하시오.\n",
    "\n",
    "나머지 범주형 피처는 인코딩하시오.\n",
    "'''\n",
    "missing=(df.isnull().sum()/ len(df)*100).sort_values(ascending=False)# 결측치 없음음\n",
    "missing\n",
    "\n",
    "\n",
    "df['이직여부'] = df['이직여부'].map({'Yes': 1, 'No': 0})\n",
    "print(df['이직여부'].unique())\n",
    "#target label set\n",
    "\n",
    "\n",
    "df['야근여부'] = df['야근여부'].map({'Yes': 1, 'No': 0})\n",
    "print(df['야근여부'].unique())\n",
    "\n",
    "\n",
    "# 변수 분류 (OneHot & gender or Label)\n",
    "label_encode_cols = []\n",
    "onehot_cols = []\n",
    "\n",
    "for col in df.columns:\n",
    "    if df[col].dtype == 'object' and col not in ['Gender', 'gender', 'Sex', 'sex']:\n",
    "        n_unique = df[col].nunique()\n",
    "        if n_unique > 2:\n",
    "            label_encode_cols.append(col)\n",
    "        elif n_unique == 2:\n",
    "            onehot_cols.append(col)\n",
    "\n",
    "# 범주형 변수 인코딩 함수 (LabelEncoder 사용, 실패 시 해시 기반)\n",
    "def encode_categoricals(df):\n",
    "    cat_cols = df.select_dtypes(include=['object', 'category']).columns\n",
    "    cat_cols = [col for col in cat_cols if col != 'year']\n",
    "    for col in cat_cols:\n",
    "        try:\n",
    "            df[col] = LabelEncoder().fit_transform(df[col])\n",
    "        except:\n",
    "            df[col] = df[col].astype(str).apply(lambda x: hash(x) % 1000)  # 해시값으로 대체\n",
    "    return df\n",
    "\n",
    "label_encode_cols\n",
    "df[label_encode_cols]=encode_categoricals(df[label_encode_cols]) # Label\n",
    "\n",
    "print(df['이직여부'].value_counts()) #one-hot은 차원 커지니깐 보류 했음.\n",
    "print(df['야근여부'].value_counts()) #one-hot은 차원 커지니깐 보류 했음.\n",
    "\n"
   ]
  },
  {
   "cell_type": "code",
   "execution_count": 60,
   "id": "56a7686a",
   "metadata": {},
   "outputs": [
    {
     "data": {
      "text/plain": [
       "array([0, 1])"
      ]
     },
     "execution_count": 60,
     "metadata": {},
     "output_type": "execute_result"
    }
   ],
   "source": [
    "'''\n",
    "3. \n",
    "피처 선택 (15점)\n",
    "\n",
    "이직 여부 예측에 유의미하다고 생각되는 피처 5~10개을 선택하고, 선택 근거를 간략하게 기술하시오.\n",
    "\n",
    "피처 선정에 관한 자세한 기술은 이후에 다룰 예정.(현재는 예측력보다 이해/해석 중점)\n",
    "feature_target=['이직여부', '업무만족도', '부서', '근무환경만족도', '직무', '연봉인상률', '총경력',\n",
    "       '야근여부', '성과등급', '워라밸', '현회사근속년수']\n",
    "'''\n",
    "\n",
    "df.columns\n",
    "\n",
    "#업무 만족도, '워라밸, '근무환경만족도': 높아야 이직 안함\n",
    "#'연봉인상률': 낮으면 이직 하고 돈 안 들어오니 나가고 싶음\n",
    "#'야근여부': 많으면 나가고 싶음.\n",
    "\n",
    "feature_target=['이직여부', '업무만족도', '워라밸', '연봉인상률', '총경력','야근여부','근무환경만족도']\n",
    "selected_df=df[feature_target] # 전처리 된 듯!\n",
    "df['이직여부'].unique()\n",
    "\n"
   ]
  },
  {
   "cell_type": "code",
   "execution_count": null,
   "id": "5b2ce0fa",
   "metadata": {},
   "outputs": [
    {
     "name": "stdout",
     "output_type": "stream",
     "text": [
      "Score:  0.86125\n",
      "Score:  0.86\n"
     ]
    }
   ],
   "source": [
    "'''\n",
    "5. 모델 훈련 (20점)\n",
    "\n",
    "학습/검증 데이터를 8:2 비율로 분할하시오.\n",
    "LogisticRegression, RandomForestClassifier 중 하나를 선택하여 학습하시오.\n",
    "'''\n",
    "\n",
    "\n",
    "y = selected_df['이직여부']\n",
    "\n",
    "X = selected_df.drop('이직여부', axis=1)\n",
    "\n",
    "# 학습 데이터와 테스트 데이터 나누기\n",
    "from sklearn.model_selection import train_test_split\n",
    "X_train, X_test, y_train, y_test=train_test_split(X, y, test_size=0.2, random_state=42)\n",
    "\n",
    "\n",
    "#의사결정나무 선택: 다양한 요인이 복합적으로 작용하는 이직률 예측할 수 있게 해주니깐.\n",
    "from sklearn.tree import DecisionTreeClassifier\n",
    "\n",
    "model=DecisionTreeClassifier(criterion = 'entropy', max_depth=3, min_samples_split=5)\n",
    "model.fit(X_train, y_train)\n",
    "\n",
    "print('Score: ',model.score(X_train, y_train))\n",
    "print('Score: ',model.score(X_test, y_test))\n"
   ]
  },
  {
   "cell_type": "code",
   "execution_count": null,
   "id": "a6ed84d4",
   "metadata": {},
   "outputs": [
    {
     "name": "stdout",
     "output_type": "stream",
     "text": [
      "Test Accuracy is 86.0\n"
     ]
    }
   ],
   "source": [
    "'''6. 성능 검증 (10점)\n",
    "\n",
    "테스트셋에서 정확도, 혼동행렬을 계산하시오. 결과에 대해 간단히 해석하시오.'''\n",
    "\n",
    "#: 모델 예측 성능 평가\n",
    "from sklearn.metrics import accuracy_score\n",
    "\n",
    "y_pred=model.predict(X_test)\n",
    "print('Test Accuracy is', accuracy_score(y_test, y_pred)*100)\n",
    "#해석: 이직 하는 사람을 예측하는 모델 만들어서 학습 데이터로 학습 시키고 테스트 데이터로 테스트로 실제와 학습 모델이 예측한 것에 대해서 어느정도 차이나는지 평가\n",
    "#테스트 데이터에 대한 정확도 출력 (예: 86%) : 100명 중 86명 정도 이직 여부 맞추는 모델 만든 것이다. \n",
    "# -->정확도 자체는 파악할 수 있으나 정확히 어떤 부분에서 오답이 발새하는지 알 수 없음음-->confusion matrix로!\n",
    "\n",
    "#Accuracy=(올바르게 예측한 샘플 개수)/(전체 샘플 개수}=(TP+TN)/(TP+TN+FP+FN)\n"
   ]
  },
  {
   "cell_type": "code",
   "execution_count": null,
   "id": "1bce74d1",
   "metadata": {},
   "outputs": [
    {
     "data": {
      "text/plain": [
       "array([[160,   5],\n",
       "       [ 23,  12]])"
      ]
     },
     "execution_count": 63,
     "metadata": {},
     "output_type": "execute_result"
    }
   ],
   "source": [
    "# 혼동 행렬(Confusion Matrix) 확인\n",
    "from sklearn.metrics import confusion_matrix\n",
    "confusion_matrix(y_test, y_pred)\n",
    "#좀 더 자세하게 TP: 160 명 맞췄고 TN: 12명, FP: 23, FN:12명 정도로 파악 가능\n"
   ]
  }
 ],
 "metadata": {
  "kernelspec": {
   "display_name": "Python 3",
   "language": "python",
   "name": "python3"
  },
  "language_info": {
   "codemirror_mode": {
    "name": "ipython",
    "version": 3
   },
   "file_extension": ".py",
   "mimetype": "text/x-python",
   "name": "python",
   "nbconvert_exporter": "python",
   "pygments_lexer": "ipython3",
   "version": "3.13.2"
  }
 },
 "nbformat": 4,
 "nbformat_minor": 5
}
