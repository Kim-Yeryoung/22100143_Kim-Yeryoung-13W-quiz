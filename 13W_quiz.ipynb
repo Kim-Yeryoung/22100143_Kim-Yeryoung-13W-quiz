{
 "cells": [
  {
   "cell_type": "code",
   "execution_count": null,
   "id": "9a423cdd",
   "metadata": {},
   "outputs": [
    {
     "name": "stdout",
     "output_type": "stream",
     "text": [
      "hi\n"
     ]
    }
   ],
   "source": [
    "#https://blog.naver.com/dev-dog\n",
    "\n",
    "import pandas as pd\n",
    "from sklearn.preprocessing import LabelEncoder\n",
    "from sklearn.preprocessing import StandardScaler\n",
    "from sklearn.preprocessing import MinMaxScaler\n",
    "#파일 넣기기\n",
    "input_file = \"C:/Users/kimye/Desktop/예령/22100143 대학 예동/5학기/introduction to Big Data/mid/7번/dirty_customer.csv\"\n",
    "#1. 파일 확인: \n",
    "df = pd.read_csv(input_file)"
   ]
  },
  {
   "cell_type": "code",
   "execution_count": null,
   "id": "56a7686a",
   "metadata": {},
   "outputs": [],
   "source": []
  }
 ],
 "metadata": {
  "kernelspec": {
   "display_name": "Python 3",
   "language": "python",
   "name": "python3"
  },
  "language_info": {
   "codemirror_mode": {
    "name": "ipython",
    "version": 3
   },
   "file_extension": ".py",
   "mimetype": "text/x-python",
   "name": "python",
   "nbconvert_exporter": "python",
   "pygments_lexer": "ipython3",
   "version": "3.13.2"
  }
 },
 "nbformat": 4,
 "nbformat_minor": 5
}
